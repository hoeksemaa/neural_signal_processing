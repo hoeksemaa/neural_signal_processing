{
  "cells": [
    {
      "cell_type": "markdown",
      "metadata": {
        "id": "view-in-github",
        "colab_type": "text"
      },
      "source": [
        "<a href=\"https://colab.research.google.com/github/hoeksemaa/neural_signal_processing/blob/main/notebooks/CodingLab2.ipynb\" target=\"_parent\"><img src=\"https://colab.research.google.com/assets/colab-badge.svg\" alt=\"Open In Colab\"/></a>"
      ]
    },
    {
      "cell_type": "markdown",
      "metadata": {
        "id": "sZ1V8CMIw3Wj"
      },
      "source": [
        "_Neural Data Analysis_\n",
        "\n",
        "Lecturer: Prof. Dr. Philipp Berens\n",
        "\n",
        "Tutors: Sarah Strauss, Ziwei Huang\n",
        "\n",
        "Summer term 2021\n",
        "\n",
        "Student names: *FILL IN YOUR NAMES HERE*\n",
        "\n",
        "# Coding Lab 2\n",
        "\n",
        "If needed, download the data files ```nda_ex_1_*.npy``` from ILIAS and save it in the subfolder ```../data/```. Use a subset of the data for testing and debugging. But be careful not to make it too small, since the algorithm may fail to detect small clusters in this case."
      ]
    },
    {
      "cell_type": "code",
      "execution_count": 1,
      "metadata": {
        "id": "eX2PlSwAw3Wm"
      },
      "outputs": [],
      "source": [
        "import pandas as pd\n",
        "import seaborn as sns\n",
        "import matplotlib.pyplot as plt\n",
        "import matplotlib as mpl\n",
        "import numpy as np\n",
        "from scipy import signal\n",
        "from sklearn.cluster import KMeans\n",
        "import scipy as sp\n",
        "from scipy.io import loadmat\n",
        "import copy\n",
        "from scipy import linalg\n",
        "\n",
        "sns.set_style('whitegrid')\n",
        "%matplotlib inline"
      ]
    },
    {
      "cell_type": "markdown",
      "metadata": {
        "id": "LinJplNPw3Wn"
      },
      "source": [
        "## Load data"
      ]
    },
    {
      "cell_type": "code",
      "execution_count": 2,
      "metadata": {
        "id": "f2Ezyn9Zw3Wo"
      },
      "outputs": [],
      "source": [
        "# replace by path to your solutions\n",
        "b = np.load('./data/nda_ex_1_features.npy')\n",
        "s = np.load('./data/nda_ex_1_spiketimes_s.npy')\n",
        "w = np.load('./data/nda_ex_1_waveforms.npy')\n"
      ]
    },
    {
      "cell_type": "markdown",
      "metadata": {
        "id": "sg_8wx8Cw3Wo"
      },
      "source": [
        "## Task 1: Generate toy data\n",
        "\n",
        "Sample 1000 data points from a two dimensional mixture of Gaussian model with three clusters  and the following parameters:\n",
        "\n",
        "$\\mu_1 = \\begin{bmatrix}0\\\\0\\end{bmatrix}, \\Sigma_1 = \\begin{bmatrix}1 & 0\\\\0 & 1\\end{bmatrix}, \\pi_1=0.3$\n",
        "\n",
        "$\\mu_2 = \\begin{bmatrix}5\\\\1\\end{bmatrix}, \\Sigma_2 = \\begin{bmatrix}2 & 1\\\\1 & 2\\end{bmatrix}, \\pi_2=0.5$\n",
        "\n",
        "$\\mu_3 = \\begin{bmatrix}0\\\\4\\end{bmatrix}, \\Sigma_3 = \\begin{bmatrix}1 & -0.5\\\\-0.5 & 1\\end{bmatrix}, \\pi_3=0.2$\n",
        "\n",
        "Plot the sampled data points and indicate in color the cluster each point came from. Plot the cluster means as well.\n",
        "\n",
        "*Grading: 1 pts*\n"
      ]
    },
    {
      "cell_type": "code",
      "execution_count": 3,
      "metadata": {
        "id": "13scrx6bw3Wp"
      },
      "outputs": [],
      "source": [
        "def sample_from_2d_gaussian(mu, Sigma):\n",
        "    L = np.linalg.cholesky(Sigma)\n",
        "    z = np.random.randn(2)\n",
        "    return mu + np.dot(z, L.T)\n",
        "\n",
        "def sampleData(N, m, S, p):\n",
        "#    Generate N samples from a Mixture of Gaussian distribution with\n",
        "#    means m, covariances S and priors p. The function returns the sampled\n",
        "#    datapoints x as well as an indicator for the cluster the point\n",
        "#    originated from. The number of samples is rounded to the nearest integer.\n",
        "#\n",
        "#    m     #components x #dim\n",
        "#    S     #dim x #dim x #components\n",
        "#    p     #components\n",
        "#\n",
        "#    x     N x #dim ()\n",
        "#    ind   N        (integer indicating source cluster of datapoint)\n",
        "    # get number of clusters\n",
        "    num_clusters = len(p)\n",
        "\n",
        "    #   steps\n",
        "    #   1) generate cluster indices for all samples\n",
        "    #   2) sample from cluster with frequency prescribed by the gaussian\n",
        "    #   3) return results\n",
        "    cluster_indices = np.random.choice(num_clusters, size=N, p=p)\n",
        "    samples = []\n",
        "    for idx in cluster_indices:\n",
        "      sample = sample_from_2d_gaussian(m[idx], S[:, :, idx])\n",
        "      samples.append(sample)\n",
        "    return np.array(samples), cluster_indices"
      ]
    },
    {
      "cell_type": "code",
      "source": [
        "#m = np.array([[0, 0], [5, 1], [0, 4]])\n",
        "#m.shape"
      ],
      "metadata": {
        "colab": {
          "base_uri": "https://localhost:8080/"
        },
        "id": "nK-_OHzD_yKj",
        "outputId": "4a4b159f-0c41-4918-c589-25ae8c566c50"
      },
      "execution_count": null,
      "outputs": [
        {
          "output_type": "execute_result",
          "data": {
            "text/plain": [
              "(3, 2)"
            ]
          },
          "metadata": {},
          "execution_count": 3
        }
      ]
    },
    {
      "cell_type": "code",
      "source": [
        "#N = 1; S = 1; p = 1\n",
        "#print(sampleData(N, m, S, p))"
      ],
      "metadata": {
        "colab": {
          "base_uri": "https://localhost:8080/"
        },
        "id": "UKHlmSCh_5mZ",
        "outputId": "27740380-a9af-4529-9835-f83225c5580a"
      },
      "execution_count": null,
      "outputs": [
        {
          "output_type": "stream",
          "name": "stdout",
          "text": [
            "1\n",
            "3\n"
          ]
        }
      ]
    },
    {
      "cell_type": "markdown",
      "metadata": {
        "id": "4WVs1MKZw3Wp"
      },
      "source": [
        "Specify parameters of Gaussians and run function"
      ]
    },
    {
      "cell_type": "code",
      "execution_count": 6,
      "metadata": {
        "colab": {
          "base_uri": "https://localhost:8080/"
        },
        "id": "i0GbpOQlw3Wp",
        "outputId": "46f74cef-3b24-44a0-bf50-972e088340c0"
      },
      "outputs": [
        {
          "output_type": "stream",
          "name": "stdout",
          "text": [
            "(3, 2)\n",
            "(2, 2, 3)\n",
            "(3,)\n"
          ]
        }
      ],
      "source": [
        "N = 1000\n",
        "m = np.array([[0, 0], [5, 1], [0, 4]])\n",
        "S1 = np.array([[1, 0], [0, 1]])\n",
        "S2 = np.array([[2, 1], [1, 2]])\n",
        "S3 = np.array([[1, -.5], [-.5, 1]])\n",
        "S = np.concatenate((S1[:,:,np.newaxis],\n",
        "                    S2[:,:,np.newaxis],\n",
        "                    S3[:,:,np.newaxis]), axis=2)\n",
        "p = np.array([.3, .5, .2])\n",
        "\n",
        "print(m.shape)\n",
        "print(S.shape)\n",
        "print(p.shape)\n",
        "\n",
        "x, ind = sampleData(N, m, S, p)"
      ]
    },
    {
      "cell_type": "markdown",
      "metadata": {
        "id": "TcIbst0Uw3Wp"
      },
      "source": [
        "Plot the toy dataset"
      ]
    },
    {
      "cell_type": "code",
      "execution_count": 7,
      "metadata": {
        "colab": {
          "base_uri": "https://localhost:8080/",
          "height": 546
        },
        "id": "Ojt11sWSw3Wq",
        "outputId": "597a3210-f7ef-40e4-85e1-fe525ef91380"
      },
      "outputs": [
        {
          "output_type": "execute_result",
          "data": {
            "text/plain": [
              "(-4.0, 10.0)"
            ]
          },
          "metadata": {},
          "execution_count": 7
        },
        {
          "output_type": "display_data",
          "data": {
            "text/plain": [
              "<Figure size 600x600 with 1 Axes>"
            ],
            "image/png": "[encoded data removed]"
          },
          "metadata": {}
        }
      ],
      "source": [
        "plt.figure(figsize=(6, 6))\n",
        "\n",
        "ax = plt.subplot(1,1,1, aspect='equal')\n",
        "plt.plot(x[ind==0,0],x[ind==0,1],'.k', markersize=3)\n",
        "plt.plot(x[ind==1,0],x[ind==1,1],'.r', markersize=3)\n",
        "plt.plot(x[ind==2,0],x[ind==2,1],'.b', markersize=3)\n",
        "\n",
        "plt.xlim((-4,10))\n",
        "plt.ylim((-4,10))\n"
      ]
    },
    {
      "cell_type": "code",
      "source": [
        "x.shape"
      ],
      "metadata": {
        "colab": {
          "base_uri": "https://localhost:8080/"
        },
        "id": "FhrPCYoDgWNs",
        "outputId": "97be21f4-310c-4d29-e227-6b37c37d507a"
      },
      "execution_count": 8,
      "outputs": [
        {
          "output_type": "execute_result",
          "data": {
            "text/plain": [
              "(1000, 2)"
            ]
          },
          "metadata": {},
          "execution_count": 8
        }
      ]
    },
    {
      "cell_type": "markdown",
      "metadata": {
        "id": "kFV7tjWEw3Wq"
      },
      "source": [
        "## Task 2: Implement a Gaussian mixture model\n",
        "\n",
        "Implement the EM algorithm to fit a Gaussian mixture model in `mog()`.  Sort the data points by inferring their class labels from your mixture model (by using maximum a-posteriori classification). Fix the seed of the random number generator to ensure deterministic and reproducible behavior. Test it on the toy dataset specifying the correct number of clusters and make sure the code works correctly. Plot the data points from the toy dataset and indicate in color the cluster each point was assigned to by your model. How does the assignment compare to ground truth? If you run the algorithm multiple times, you will notice that some solutions provide suboptimal clustering solutions - depending on your initialization strategy.  \n",
        "\n",
        "*Grading: 4 pts*\n"
      ]
    },
    {
      "cell_type": "code",
      "execution_count": 38,
      "metadata": {
        "id": "8F7T3mPUw3Wq"
      },
      "outputs": [],
      "source": [
        "from scipy.stats import multivariate_normal\n",
        "\n",
        "def initialize_clusters(k):\n",
        "    # generate means\n",
        "    means = np.random.uniform(-4, 10, (k, 2))\n",
        "\n",
        "    # generate covariances\n",
        "    covs = []\n",
        "    for _ in range(k):\n",
        "        # Create a symmetric positive semi-definite matrix\n",
        "        A = np.random.randn(2, 2)\n",
        "        cov = np.dot(A, A.transpose())\n",
        "        covs.append(cov)\n",
        "\n",
        "    # generate mixing coefficients\n",
        "    pis = np.random.dirichlet(np.ones(k), size=1).flatten()\n",
        "\n",
        "    return means, covs, pis\n",
        "\n",
        "def e_step(x, means, covs, pis, k):\n",
        "    \"\"\"\n",
        "    E-step: Computes responsibilities for GMM\n",
        "\n",
        "    Parameters:\n",
        "    - x: Data matrix of size (N, 2) where N is number of data points\n",
        "    - means: Array of shape (k, 2) containing means of the k Gaussians\n",
        "    - covs: List of covariance matrices, each of size (2, 2). Length of list is k.\n",
        "    - pis: Array of size (k,) containing mixture coefficients for k Gaussians\n",
        "    - k: Number of clusters\n",
        "\n",
        "    Returns:\n",
        "    - responsibilities: Numpy array of size (N, k) with responsibilities of each data point for each cluster\n",
        "    \"\"\"\n",
        "\n",
        "    N = x.shape[0]\n",
        "    responsibilities = np.zeros((N, k))\n",
        "\n",
        "    for i in range(k):\n",
        "      responsibilities[:, i] = pis[i] * multivariate_normal.pdf(x, mean=means[i], cov=covs[i])\n",
        "\n",
        "    # Normalize responsibilities so they sum to 1 for each data point\n",
        "    responsibilities /= responsibilities.sum(axis=1, keepdims=True)\n",
        "\n",
        "    return responsibilities\n",
        "\n",
        "def update_means(x, responsibilities):\n",
        "    \"\"\"\n",
        "    M-step to update Gaussian means based on responsibilities from E-step.\n",
        "\n",
        "    Parameters:\n",
        "    - x: Data matrix of size (N, 2) where N is number of data points\n",
        "    - responsibilities: Array of size (N, k) containing responsibilities of each data point for each Gaussian cluster\n",
        "\n",
        "    Returns:\n",
        "    - updated_means: Array of shape (k, 2) containing updated means of the k Gaussians\n",
        "    \"\"\"\n",
        "\n",
        "    # Compute the effective number of data points for each cluster\n",
        "    Nk = np.sum(responsibilities, axis=0)\n",
        "\n",
        "    # Update means\n",
        "    updated_means = np.dot(responsibilities.T, x) / Nk[:, None]\n",
        "\n",
        "    return updated_means\n",
        "\n",
        "def update_covs(x, responsibilities, means):\n",
        "    \"\"\"\n",
        "    M-step to update Gaussian covariances based on responsibilities from E-step and updated means.\n",
        "\n",
        "    Parameters:\n",
        "    - x: Data matrix of size (N, 2) where N is number of data points\n",
        "    - responsibilities: Array of size (N, k) containing responsibilities of each data point for each Gaussian cluster\n",
        "    - updated_means: Array of size (k, 2) containing updated means of the k Gaussians\n",
        "\n",
        "    Returns:\n",
        "    - updated_covariances: List of k covariance matrices\n",
        "    \"\"\"\n",
        "\n",
        "    N, k = responsibilities.shape\n",
        "    updated_covariances = []\n",
        "\n",
        "    for i in range(k):\n",
        "        covariance = np.zeros((2, 2))  # Initialize covariance matrix for this cluster\n",
        "        for j in range(N):\n",
        "            diff = (x[j] - means[i]).reshape(-1, 1)  # Difference between data point and mean\n",
        "            covariance += responsibilities[j, i] * np.dot(diff, diff.T)\n",
        "        covariance /= np.sum(responsibilities[:, i])\n",
        "        updated_covariances.append(covariance)\n",
        "\n",
        "    return updated_covariances\n",
        "\n",
        "def update_pis(responsibilities):\n",
        "    \"\"\"\n",
        "    Update the mixing coefficients (pis) for each Gaussian based on responsibilities.\n",
        "\n",
        "    Parameters:\n",
        "    - responsibilities: Array of size (N, k) containing responsibilities of each data point for each Gaussian cluster\n",
        "\n",
        "    Returns:\n",
        "    - updated_pis: List of updated mixing coefficients for each of the k Gaussians\n",
        "    \"\"\"\n",
        "\n",
        "    N = responsibilities.shape[0]\n",
        "    Nk = np.sum(responsibilities, axis=0)  # Sum of responsibilities for each Gaussian\n",
        "    updated_pis = Nk / N\n",
        "    return updated_pis\n",
        "\n",
        "def mog(x,k):\n",
        "# Fit Mixture of Gaussian model\n",
        "#   ind, m, S, p = mog(x,k) fits a Mixture of Gaussian model to the data in\n",
        "#   x using k components. The output ind contains the MAP assignments of the\n",
        "#   datapoints in x to the found clusters. The outputs m, S, p contain\n",
        "#   the model parameters.\n",
        "#\n",
        "#   x:     N by D\n",
        "#\n",
        "#   ind:   N by 1\n",
        "#   m:     k by D\n",
        "#   S:     D by D by k\n",
        "#   p:     k by 1\n",
        "\n",
        "    # set seed\n",
        "    np.random.seed(42)\n",
        "\n",
        "    # initialize k clusters and some other stuff\n",
        "    means, covs, pis = initialize_clusters(k)\n",
        "\n",
        "    # step number fixed and arbitrary\n",
        "    num_steps = 20\n",
        "    for i in range(num_steps):\n",
        "        # E-Step\n",
        "        # evaluate responsibilities\n",
        "        # resulting numpy array is N by k\n",
        "        # each posterior probability of a different cluster computed\n",
        "        responsibilities = e_step(x, means, covs, pis, k)\n",
        "\n",
        "        # M-Step\n",
        "        # which is actually 3 discrete steps of updating means, covs, pis\n",
        "        means = update_means(x, responsibilities)\n",
        "        covs  = update_covs(x, responsibilities, means)\n",
        "        pis   = update_pis(responsibilities)\n",
        "\n",
        "    # assign indices based on maximum responsibility to cluster\n",
        "    ind = np.argmax(responsibilities, axis=1)\n",
        "\n",
        "    return (ind, means, covs, pis)\n"
      ]
    },
    {
      "cell_type": "markdown",
      "source": [],
      "metadata": {
        "id": "QZi8yt_rhkZN"
      }
    },
    {
      "cell_type": "markdown",
      "metadata": {
        "id": "AXm_Mm5Iw3Wr"
      },
      "source": [
        "Run Mixture of Gaussian on toy data"
      ]
    },
    {
      "cell_type": "code",
      "execution_count": 39,
      "metadata": {
        "id": "EDXu-XkBw3Wr"
      },
      "outputs": [],
      "source": [
        "ind2, m, S, p = mog(x,3)"
      ]
    },
    {
      "cell_type": "markdown",
      "metadata": {
        "id": "du-18Jevw3Wr"
      },
      "source": [
        "Plot toy data with cluster assignments and compare to original labels"
      ]
    },
    {
      "cell_type": "code",
      "execution_count": 40,
      "metadata": {
        "id": "a_kQEVaGw3Wr",
        "colab": {
          "base_uri": "https://localhost:8080/",
          "height": 523
        },
        "outputId": "fec5fe7d-d742-4571-a974-112e9aef95a6"
      },
      "outputs": [
        {
          "output_type": "execute_result",
          "data": {
            "text/plain": [
              "Text(0.5, 1.0, 'MoG labels')"
            ]
          },
          "metadata": {},
          "execution_count": 40
        },
        {
          "output_type": "display_data",
          "data": {
            "text/plain": [
              "<Figure size 1200x600 with 2 Axes>"
            ],
            "image/png": "[encoded data removed]"
          },
          "metadata": {}
        }
      ],
      "source": [
        "plt.figure(figsize=(12, 6))\n",
        "\n",
        "ax = plt.subplot(1,2,1, aspect='equal')\n",
        "plt.plot(x[ind==0,0],x[ind==0,1],'.k', markersize=3)\n",
        "plt.plot(x[ind==1,0],x[ind==1,1],'.r', markersize=3)\n",
        "plt.plot(x[ind==2,0],x[ind==2,1],'.b', markersize=3)\n",
        "\n",
        "plt.xlim((-4,10))\n",
        "plt.ylim((-4,10))\n",
        "plt.title('True labels')\n",
        "\n",
        "ax = plt.subplot(1,2,2, aspect='equal')\n",
        "plt.plot(x[ind2==0,0],x[ind2==0,1],'.k', markersize=3)\n",
        "plt.plot(x[ind2==1,0],x[ind2==1,1],'.r', markersize=3)\n",
        "plt.plot(x[ind2==2,0],x[ind2==2,1],'.b', markersize=3)\n",
        "\n",
        "plt.xlim((-4,10))\n",
        "plt.ylim((-4,10))\n",
        "plt.title('MoG labels')\n",
        "\n"
      ]
    },
    {
      "cell_type": "markdown",
      "metadata": {
        "id": "peSFDlzRw3Wr"
      },
      "source": [
        "## Task 3: Model complexity\n",
        "A priori we do not how many neurons we recorded. Extend your algorithm with an automatic procedure to select the appropriate number of mixture components (clusters). Base your decision on the Bayesian Information Criterion:\n",
        "\n",
        "$BIC = -2L+P \\log N,$\n",
        "\n",
        "where $L$ is the log-likelihood of the data under the best model, $P$ is the number of parameters of the model and $N$ is the number of data points. You want to minimize the quantity. Plot the BIC as a function of mixture components. What is the optimal number of clusters on the toy dataset?\n",
        "\n",
        "You can also use the BIC to make your algorithm robust against suboptimal solutions due to local minima. Start the algorithm multiple times and pick the best solutions for extra points. You will notice that this depends a lot on which initialization strategy you use.\n",
        "\n",
        "*Grading: 2 pts + 1 extra pt*\n",
        "\n"
      ]
    },
    {
      "cell_type": "code",
      "execution_count": null,
      "metadata": {
        "id": "Gq11TzUmw3Ws"
      },
      "outputs": [],
      "source": [
        "def mog_bic(x, m, S, p):\n",
        "# Compute the BIC for a fitted Mixture of Gaussian model\n",
        "#   bic, LL = mog_bic(x,k) computes the the Bayesian Information\n",
        "#   Criterion value and the log-likelihood of the fitted model.\n",
        "#\n",
        "#   x:     N by D\n",
        "#   m:     k by D\n",
        "#   S:     D by D by k\n",
        "#   p:     k\n",
        "\n",
        "#   bic:   1 by 1\n",
        "#   LL:    1 by 1\n",
        "\n",
        "\n",
        "    # fill in your code here\n",
        "\n",
        "    return (bic, LL)\n"
      ]
    },
    {
      "cell_type": "markdown",
      "metadata": {
        "id": "u9LpaVvQw3Ws"
      },
      "source": [
        "Fit and compute the BIC for mixture models with different numbers of clusters (e.g., between 2 and 6)."
      ]
    },
    {
      "cell_type": "code",
      "execution_count": null,
      "metadata": {
        "id": "LAqOmMlHw3Ws"
      },
      "outputs": [],
      "source": [
        "K = [2, 3, 4, 5, 6]\n",
        "BIC = np.zeros((3,len(K)))\n",
        "LL = np.zeros((3,len(K)))\n",
        "\n",
        "# run mog and BIC multiple times here"
      ]
    },
    {
      "cell_type": "code",
      "execution_count": null,
      "metadata": {
        "id": "avB7GlWmw3Ws"
      },
      "outputs": [],
      "source": [
        "plt.figure(figsize=(5, 4))\n",
        "\n",
        "plt.plot(K,np.min(BIC,axis=0),'s')\n",
        "plt.xlabel('Number of clusters')\n",
        "plt.ylabel('BIC')\n",
        "plt.xticks(K)\n",
        "plt.xlim((1,7))"
      ]
    },
    {
      "cell_type": "markdown",
      "metadata": {
        "id": "UH3zGDCpw3Wt"
      },
      "source": [
        "## Task 4: Spike sorting using Mixture of Gaussian\n",
        "Run the full algorithm on your set of extracted features (including model complexity selection). Plot the BIC as a function of the number of mixture components on the real data. For the best model, make scatter plots of the first PCs on all four channels (6 plots). Color-code each data point according to its class label in the model with the optimal number of clusters. In addition, indicate the position (mean) of the clusters in your plot.\n",
        "\n",
        "*Grading: 3 pts*\n"
      ]
    },
    {
      "cell_type": "code",
      "execution_count": null,
      "metadata": {
        "id": "goSdH80xw3Wt"
      },
      "outputs": [],
      "source": [
        "K = np.arange(2,14)\n",
        "BIC = np.zeros(len(K))\n",
        "LL = np.zeros(len(K))\n",
        "\n",
        "for j in np.arange(0,len(K)):\n",
        "    foo, m, S, p = mog(b,K[j])\n",
        "    BIC[j], LL[j] = mog_bic(b, m, S, p)\n"
      ]
    },
    {
      "cell_type": "markdown",
      "metadata": {
        "id": "zTJuXzv_w3Wt"
      },
      "source": [
        "Plot BIC"
      ]
    },
    {
      "cell_type": "code",
      "execution_count": null,
      "metadata": {
        "collapsed": true,
        "jupyter": {
          "outputs_hidden": true
        },
        "id": "Xq0pOEu9w3Wt"
      },
      "outputs": [],
      "source": []
    },
    {
      "cell_type": "markdown",
      "metadata": {
        "id": "AvScyIaDw3Wt"
      },
      "source": [
        "Refit model with lowest BIC and plot data points"
      ]
    },
    {
      "cell_type": "code",
      "execution_count": null,
      "metadata": {
        "collapsed": true,
        "jupyter": {
          "outputs_hidden": true
        },
        "id": "Ozxa9Lckw3Wt"
      },
      "outputs": [],
      "source": []
    },
    {
      "cell_type": "code",
      "execution_count": null,
      "metadata": {
        "collapsed": true,
        "jupyter": {
          "outputs_hidden": true
        },
        "id": "iyHfu5OTw3Wu"
      },
      "outputs": [],
      "source": [
        "np.save('../data/nda_ex_2_means',m)\n",
        "np.save('../data/nda_ex_2_covs',S)\n",
        "np.save('../data/nda_ex_2_pis',p)\n",
        "np.save('../data/nda_ex_2_labels',a)"
      ]
    }
  ],
  "metadata": {
    "anaconda-cloud": {},
    "kernelspec": {
      "display_name": "Python 3",
      "language": "python",
      "name": "python3"
    },
    "language_info": {
      "codemirror_mode": {
        "name": "ipython",
        "version": 3
      },
      "file_extension": ".py",
      "mimetype": "text/x-python",
      "name": "python",
      "nbconvert_exporter": "python",
      "pygments_lexer": "ipython3",
      "version": "3.7.7"
    },
    "nteract": {
      "version": "0.13.0"
    },
    "colab": {
      "provenance": [],
      "include_colab_link": true
    }
  },
  "nbformat": 4,
  "nbformat_minor": 0
}